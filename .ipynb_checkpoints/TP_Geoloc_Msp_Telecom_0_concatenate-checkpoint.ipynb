{
 "cells": [
  {
   "cell_type": "markdown",
   "metadata": {},
   "source": [
    "# <center> TP Geoloc </center>"
   ]
  },
  {
   "cell_type": "code",
   "execution_count": 60,
   "metadata": {
    "ExecuteTime": {
     "end_time": "2018-12-14T16:34:45.504489Z",
     "start_time": "2018-12-14T16:34:45.495579Z"
    }
   },
   "outputs": [],
   "source": [
    "%matplotlib inline\n",
    "import numpy as np\n",
    "import pandas as pd\n",
    "import matplotlib.pyplot as plt\n",
    "import math\n",
    "from geopy.distance import vincenty\n",
    "from sklearn.preprocessing import LabelEncoder, OneHotEncoder\n",
    "import seaborn as sns\n",
    "\n",
    "import warnings\n",
    "warnings.filterwarnings(\"ignore\")\n",
    "\n",
    "pd.set_option('display.max_columns', 500)"
   ]
  },
  {
   "cell_type": "code",
   "execution_count": 2,
   "metadata": {
    "ExecuteTime": {
     "end_time": "2018-12-14T16:34:46.033515Z",
     "start_time": "2018-12-14T16:34:45.837962Z"
    }
   },
   "outputs": [],
   "source": [
    "# load train and test data\n",
    "path = \"/Users/valentinphetchanpheng/Documents/MS BGD Telecom ParisTech/Machine Learning IoT/TP_geoloc/\"\n",
    "df_mess_train = pd.read_csv(path+'mess_train_list.csv') # train set\n",
    "df_mess_test = pd.read_csv(path+'mess_test_list.csv') # test set\n",
    "pos_train = pd.read_csv(path+'pos_train_list.csv') # position associated to train set"
   ]
  },
  {
   "cell_type": "markdown",
   "metadata": {},
   "source": [
    "## Data Exploration"
   ]
  },
  {
   "cell_type": "markdown",
   "metadata": {},
   "source": [
    "On affiche les différentes tables:"
   ]
  },
  {
   "cell_type": "code",
   "execution_count": 4,
   "metadata": {
    "ExecuteTime": {
     "end_time": "2018-12-14T16:34:47.134797Z",
     "start_time": "2018-12-14T16:34:47.121900Z"
    }
   },
   "outputs": [
    {
     "data": {
      "text/html": [
       "<div>\n",
       "<style scoped>\n",
       "    .dataframe tbody tr th:only-of-type {\n",
       "        vertical-align: middle;\n",
       "    }\n",
       "\n",
       "    .dataframe tbody tr th {\n",
       "        vertical-align: top;\n",
       "    }\n",
       "\n",
       "    .dataframe thead th {\n",
       "        text-align: right;\n",
       "    }\n",
       "</style>\n",
       "<table border=\"1\" class=\"dataframe\">\n",
       "  <thead>\n",
       "    <tr style=\"text-align: right;\">\n",
       "      <th></th>\n",
       "      <th>messid</th>\n",
       "      <th>bsid</th>\n",
       "      <th>did</th>\n",
       "      <th>nseq</th>\n",
       "      <th>rssi</th>\n",
       "      <th>time_ux</th>\n",
       "      <th>bs_lat</th>\n",
       "      <th>bs_lng</th>\n",
       "    </tr>\n",
       "  </thead>\n",
       "  <tbody>\n",
       "    <tr>\n",
       "      <th>0</th>\n",
       "      <td>573bf1d9864fce1a9af8c5c9</td>\n",
       "      <td>2841</td>\n",
       "      <td>473335.0</td>\n",
       "      <td>0.5</td>\n",
       "      <td>-121.5</td>\n",
       "      <td>1.463546e+12</td>\n",
       "      <td>39.617794</td>\n",
       "      <td>-104.954917</td>\n",
       "    </tr>\n",
       "    <tr>\n",
       "      <th>1</th>\n",
       "      <td>573bf1d9864fce1a9af8c5c9</td>\n",
       "      <td>3526</td>\n",
       "      <td>473335.0</td>\n",
       "      <td>2.0</td>\n",
       "      <td>-125.0</td>\n",
       "      <td>1.463546e+12</td>\n",
       "      <td>39.677251</td>\n",
       "      <td>-104.952721</td>\n",
       "    </tr>\n",
       "    <tr>\n",
       "      <th>2</th>\n",
       "      <td>573bf3533e952e19126b256a</td>\n",
       "      <td>2605</td>\n",
       "      <td>473335.0</td>\n",
       "      <td>1.0</td>\n",
       "      <td>-134.0</td>\n",
       "      <td>1.463547e+12</td>\n",
       "      <td>39.612745</td>\n",
       "      <td>-105.008827</td>\n",
       "    </tr>\n",
       "    <tr>\n",
       "      <th>3</th>\n",
       "      <td>573c0cd0f0fe6e735a699b93</td>\n",
       "      <td>2610</td>\n",
       "      <td>473953.0</td>\n",
       "      <td>2.0</td>\n",
       "      <td>-132.0</td>\n",
       "      <td>1.463553e+12</td>\n",
       "      <td>39.797969</td>\n",
       "      <td>-105.073460</td>\n",
       "    </tr>\n",
       "    <tr>\n",
       "      <th>4</th>\n",
       "      <td>573c0cd0f0fe6e735a699b93</td>\n",
       "      <td>3574</td>\n",
       "      <td>473953.0</td>\n",
       "      <td>1.0</td>\n",
       "      <td>-120.0</td>\n",
       "      <td>1.463553e+12</td>\n",
       "      <td>39.723151</td>\n",
       "      <td>-104.956216</td>\n",
       "    </tr>\n",
       "  </tbody>\n",
       "</table>\n",
       "</div>"
      ],
      "text/plain": [
       "                     messid  bsid       did  nseq   rssi       time_ux  \\\n",
       "0  573bf1d9864fce1a9af8c5c9  2841  473335.0   0.5 -121.5  1.463546e+12   \n",
       "1  573bf1d9864fce1a9af8c5c9  3526  473335.0   2.0 -125.0  1.463546e+12   \n",
       "2  573bf3533e952e19126b256a  2605  473335.0   1.0 -134.0  1.463547e+12   \n",
       "3  573c0cd0f0fe6e735a699b93  2610  473953.0   2.0 -132.0  1.463553e+12   \n",
       "4  573c0cd0f0fe6e735a699b93  3574  473953.0   1.0 -120.0  1.463553e+12   \n",
       "\n",
       "      bs_lat      bs_lng  \n",
       "0  39.617794 -104.954917  \n",
       "1  39.677251 -104.952721  \n",
       "2  39.612745 -105.008827  \n",
       "3  39.797969 -105.073460  \n",
       "4  39.723151 -104.956216  "
      ]
     },
     "execution_count": 4,
     "metadata": {},
     "output_type": "execute_result"
    }
   ],
   "source": [
    "# Train set\n",
    "df_mess_train.head()"
   ]
  },
  {
   "cell_type": "code",
   "execution_count": 5,
   "metadata": {
    "ExecuteTime": {
     "end_time": "2018-12-14T16:34:47.510523Z",
     "start_time": "2018-12-14T16:34:47.497174Z"
    }
   },
   "outputs": [
    {
     "data": {
      "text/html": [
       "<div>\n",
       "<style scoped>\n",
       "    .dataframe tbody tr th:only-of-type {\n",
       "        vertical-align: middle;\n",
       "    }\n",
       "\n",
       "    .dataframe tbody tr th {\n",
       "        vertical-align: top;\n",
       "    }\n",
       "\n",
       "    .dataframe thead th {\n",
       "        text-align: right;\n",
       "    }\n",
       "</style>\n",
       "<table border=\"1\" class=\"dataframe\">\n",
       "  <thead>\n",
       "    <tr style=\"text-align: right;\">\n",
       "      <th></th>\n",
       "      <th>messid</th>\n",
       "      <th>bsid</th>\n",
       "      <th>did</th>\n",
       "      <th>nseq</th>\n",
       "      <th>rssi</th>\n",
       "      <th>time_ux</th>\n",
       "      <th>bs_lat</th>\n",
       "      <th>bs_lng</th>\n",
       "    </tr>\n",
       "  </thead>\n",
       "  <tbody>\n",
       "    <tr>\n",
       "      <th>0</th>\n",
       "      <td>573be2503e952e191262c351</td>\n",
       "      <td>3578</td>\n",
       "      <td>116539.0</td>\n",
       "      <td>2.0</td>\n",
       "      <td>-111.0</td>\n",
       "      <td>1.463542e+12</td>\n",
       "      <td>39.728651</td>\n",
       "      <td>-105.163032</td>\n",
       "    </tr>\n",
       "    <tr>\n",
       "      <th>1</th>\n",
       "      <td>573c05f83e952e1912758013</td>\n",
       "      <td>2617</td>\n",
       "      <td>472504.0</td>\n",
       "      <td>0.0</td>\n",
       "      <td>-136.0</td>\n",
       "      <td>1.463551e+12</td>\n",
       "      <td>39.779908</td>\n",
       "      <td>-105.062479</td>\n",
       "    </tr>\n",
       "    <tr>\n",
       "      <th>2</th>\n",
       "      <td>573c05f83e952e1912758013</td>\n",
       "      <td>3556</td>\n",
       "      <td>472504.0</td>\n",
       "      <td>0.0</td>\n",
       "      <td>-127.0</td>\n",
       "      <td>1.463551e+12</td>\n",
       "      <td>39.780658</td>\n",
       "      <td>-105.053676</td>\n",
       "    </tr>\n",
       "    <tr>\n",
       "      <th>3</th>\n",
       "      <td>573c05f83e952e1912758013</td>\n",
       "      <td>3578</td>\n",
       "      <td>472504.0</td>\n",
       "      <td>0.0</td>\n",
       "      <td>-129.0</td>\n",
       "      <td>1.463551e+12</td>\n",
       "      <td>39.728651</td>\n",
       "      <td>-105.163032</td>\n",
       "    </tr>\n",
       "    <tr>\n",
       "      <th>4</th>\n",
       "      <td>573c05f83e952e1912758013</td>\n",
       "      <td>4058</td>\n",
       "      <td>472504.0</td>\n",
       "      <td>0.0</td>\n",
       "      <td>-105.0</td>\n",
       "      <td>1.463551e+12</td>\n",
       "      <td>39.783211</td>\n",
       "      <td>-105.088747</td>\n",
       "    </tr>\n",
       "  </tbody>\n",
       "</table>\n",
       "</div>"
      ],
      "text/plain": [
       "                     messid  bsid       did  nseq   rssi       time_ux  \\\n",
       "0  573be2503e952e191262c351  3578  116539.0   2.0 -111.0  1.463542e+12   \n",
       "1  573c05f83e952e1912758013  2617  472504.0   0.0 -136.0  1.463551e+12   \n",
       "2  573c05f83e952e1912758013  3556  472504.0   0.0 -127.0  1.463551e+12   \n",
       "3  573c05f83e952e1912758013  3578  472504.0   0.0 -129.0  1.463551e+12   \n",
       "4  573c05f83e952e1912758013  4058  472504.0   0.0 -105.0  1.463551e+12   \n",
       "\n",
       "      bs_lat      bs_lng  \n",
       "0  39.728651 -105.163032  \n",
       "1  39.779908 -105.062479  \n",
       "2  39.780658 -105.053676  \n",
       "3  39.728651 -105.163032  \n",
       "4  39.783211 -105.088747  "
      ]
     },
     "execution_count": 5,
     "metadata": {},
     "output_type": "execute_result"
    }
   ],
   "source": [
    "# Test set\n",
    "df_mess_test.head()"
   ]
  },
  {
   "cell_type": "code",
   "execution_count": 6,
   "metadata": {
    "ExecuteTime": {
     "end_time": "2018-12-14T16:34:47.881819Z",
     "start_time": "2018-12-14T16:34:47.873874Z"
    }
   },
   "outputs": [
    {
     "data": {
      "text/html": [
       "<div>\n",
       "<style scoped>\n",
       "    .dataframe tbody tr th:only-of-type {\n",
       "        vertical-align: middle;\n",
       "    }\n",
       "\n",
       "    .dataframe tbody tr th {\n",
       "        vertical-align: top;\n",
       "    }\n",
       "\n",
       "    .dataframe thead th {\n",
       "        text-align: right;\n",
       "    }\n",
       "</style>\n",
       "<table border=\"1\" class=\"dataframe\">\n",
       "  <thead>\n",
       "    <tr style=\"text-align: right;\">\n",
       "      <th></th>\n",
       "      <th>lat</th>\n",
       "      <th>lng</th>\n",
       "    </tr>\n",
       "  </thead>\n",
       "  <tbody>\n",
       "    <tr>\n",
       "      <th>0</th>\n",
       "      <td>39.606690</td>\n",
       "      <td>-104.958490</td>\n",
       "    </tr>\n",
       "    <tr>\n",
       "      <th>1</th>\n",
       "      <td>39.606690</td>\n",
       "      <td>-104.958490</td>\n",
       "    </tr>\n",
       "    <tr>\n",
       "      <th>2</th>\n",
       "      <td>39.637741</td>\n",
       "      <td>-104.958554</td>\n",
       "    </tr>\n",
       "    <tr>\n",
       "      <th>3</th>\n",
       "      <td>39.730417</td>\n",
       "      <td>-104.968940</td>\n",
       "    </tr>\n",
       "    <tr>\n",
       "      <th>4</th>\n",
       "      <td>39.730417</td>\n",
       "      <td>-104.968940</td>\n",
       "    </tr>\n",
       "  </tbody>\n",
       "</table>\n",
       "</div>"
      ],
      "text/plain": [
       "         lat         lng\n",
       "0  39.606690 -104.958490\n",
       "1  39.606690 -104.958490\n",
       "2  39.637741 -104.958554\n",
       "3  39.730417 -104.968940\n",
       "4  39.730417 -104.968940"
      ]
     },
     "execution_count": 6,
     "metadata": {},
     "output_type": "execute_result"
    }
   ],
   "source": [
    "# Label du train\n",
    "pos_train.head()"
   ]
  },
  {
   "cell_type": "code",
   "execution_count": 7,
   "metadata": {
    "ExecuteTime": {
     "end_time": "2018-12-14T16:34:48.647185Z",
     "start_time": "2018-12-14T16:34:48.641239Z"
    }
   },
   "outputs": [
    {
     "name": "stdout",
     "output_type": "stream",
     "text": [
      "Train Number of Rows : 39250, Train Number of columns : 8\n",
      "Test Number of Rows : 29286, Test Number of columns : 8\n",
      "Data Types :\n",
      "\n",
      "messid      object\n",
      "bsid         int64\n",
      "did        float64\n",
      "nseq       float64\n",
      "rssi       float64\n",
      "time_ux    float64\n",
      "bs_lat     float64\n",
      "bs_lng     float64\n",
      "dtype: object\n"
     ]
    }
   ],
   "source": [
    "print(\"Train Number of Rows : %d, Train Number of columns : %d\" %(df_mess_train.shape[0], df_mess_train.shape[1]))\n",
    "print(\"Test Number of Rows : %d, Test Number of columns : %d\" %(df_mess_test.shape[0], df_mess_test.shape[1]))\n",
    "print(\"Data Types :\" + \"\\n\")\n",
    "print(df_mess_train.dtypes)"
   ]
  },
  {
   "cell_type": "markdown",
   "metadata": {},
   "source": [
    "On cherche à rentrer plus dans le détail des données et repérant le nombre de valeurs uniques dans les données globales (train+test):"
   ]
  },
  {
   "cell_type": "code",
   "execution_count": 8,
   "metadata": {
    "ExecuteTime": {
     "end_time": "2018-12-14T16:34:50.143537Z",
     "start_time": "2018-12-14T16:34:50.135585Z"
    }
   },
   "outputs": [],
   "source": [
    "df_concact = df_mess_train.append(df_mess_test, sort=False)"
   ]
  },
  {
   "cell_type": "code",
   "execution_count": 9,
   "metadata": {
    "ExecuteTime": {
     "end_time": "2018-12-14T16:34:50.570819Z",
     "start_time": "2018-12-14T16:34:50.548472Z"
    }
   },
   "outputs": [
    {
     "name": "stdout",
     "output_type": "stream",
     "text": [
      "Nombre de messages uniques : 11362\n",
      "Nombre de stations uniques : 259\n",
      "Nombre de devices uniques : 169\n",
      "Nombre de valeurs uniques de time_ux : 11360\n",
      "Nombre de valeurs uniques de rssi : 286\n",
      "Nombre de valeurs uniques de nseq: 5\n"
     ]
    }
   ],
   "source": [
    "print(\"Nombre de messages uniques : %d\" %len(df_concact.messid.unique()))\n",
    "print(\"Nombre de stations uniques : %d\" %len(df_concact.bsid.unique()))\n",
    "print(\"Nombre de devices uniques : %d\" %len(df_concact.did.unique()))\n",
    "print(\"Nombre de valeurs uniques de time_ux : %d\" %len(df_concact.time_ux.unique()))\n",
    "print(\"Nombre de valeurs uniques de rssi : %d\" %len(df_concact.rssi.unique()))\n",
    "print(\"Nombre de valeurs uniques de nseq: %d\" %len(df_concact.nseq.unique()))"
   ]
  },
  {
   "cell_type": "markdown",
   "metadata": {},
   "source": [
    "On va s'intéresser maintenant à la distribution des valeurs dans certaines variables dans l'échantillon train et test:"
   ]
  },
  {
   "cell_type": "code",
   "execution_count": 10,
   "metadata": {
    "ExecuteTime": {
     "end_time": "2018-12-14T16:34:51.755759Z",
     "start_time": "2018-12-14T16:34:51.525171Z"
    }
   },
   "outputs": [
    {
     "data": {
      "image/png": "[encoded data removed]",
      "text/plain": [
       "<Figure size 1008x288 with 2 Axes>"
      ]
     },
     "metadata": {
      "needs_background": "light"
     },
     "output_type": "display_data"
    }
   ],
   "source": [
    "bins = np.linspace(0, 2.5, 11)\n",
    "plt.figure(figsize=(14,4))\n",
    "plt.subplot(121)\n",
    "plt.hist(df_mess_train.nseq, bins=bins)\n",
    "plt.title(\"Distribution des valeurs de nseq - Train\")\n",
    "plt.subplot(122)\n",
    "plt.hist(df_mess_test.nseq, bins=bins, color=\"orange\")\n",
    "plt.title(\"Distribution des valeurs de nseq - Test\")\n",
    "plt.show()"
   ]
  },
  {
   "cell_type": "code",
   "execution_count": 11,
   "metadata": {
    "ExecuteTime": {
     "end_time": "2018-12-14T16:34:52.854457Z",
     "start_time": "2018-12-14T16:34:51.935867Z"
    }
   },
   "outputs": [
    {
     "data": {
      "image/png": "[encoded data removed]",
      "text/plain": [
       "<Figure size 1008x288 with 2 Axes>"
      ]
     },
     "metadata": {
      "needs_background": "light"
     },
     "output_type": "display_data"
    }
   ],
   "source": [
    "plt.figure(figsize=(14,4))\n",
    "plt.subplot(121)\n",
    "sns.distplot(df_mess_train.rssi, bins=300)\n",
    "plt.title(\"Distribution des valeurs de rssi - Train\")\n",
    "plt.subplot(122)\n",
    "sns.distplot(df_mess_test.rssi, bins=300, color='orange')\n",
    "plt.title(\"Distribution des valeurs de rssi - Test\")\n",
    "plt.show()"
   ]
  },
  {
   "cell_type": "code",
   "execution_count": 12,
   "metadata": {
    "ExecuteTime": {
     "end_time": "2018-12-14T16:34:53.299865Z",
     "start_time": "2018-12-14T16:34:52.857434Z"
    }
   },
   "outputs": [
    {
     "data": {
      "image/png": "[encoded data removed]",
      "text/plain": [
       "<Figure size 1008x288 with 2 Axes>"
      ]
     },
     "metadata": {
      "needs_background": "light"
     },
     "output_type": "display_data"
    }
   ],
   "source": [
    "plt.figure(figsize=(14,4))\n",
    "plt.subplot(121)\n",
    "sns.distplot(df_mess_train.time_ux, bins=100, kde=False)\n",
    "plt.title(\"Distribution des valeurs de time_ux - Train\")\n",
    "plt.subplot(122)\n",
    "sns.distplot(df_mess_test.time_ux, bins=100, kde=False, color='orange')\n",
    "plt.title(\"Distribution des valeurs de time_ux - Test\")\n",
    "plt.show()"
   ]
  },
  {
   "cell_type": "code",
   "execution_count": 13,
   "metadata": {
    "ExecuteTime": {
     "end_time": "2018-12-14T16:34:53.521118Z",
     "start_time": "2018-12-14T16:34:53.302842Z"
    }
   },
   "outputs": [
    {
     "data": {
      "image/png": "[encoded data removed]",
      "text/plain": [
       "<Figure size 360x360 with 1 Axes>"
      ]
     },
     "metadata": {
      "needs_background": "light"
     },
     "output_type": "display_data"
    },
    {
     "data": {
      "image/png": "[encoded data removed]",
      "text/plain": [
       "<Figure size 360x360 with 1 Axes>"
      ]
     },
     "metadata": {
      "needs_background": "light"
     },
     "output_type": "display_data"
    }
   ],
   "source": [
    "def plot_corr(df,size=5):\n",
    "    '''Function plots a graphical correlation matrix for each pair of columns in the dataframe.\n",
    "\n",
    "    Input:\n",
    "        df: pandas DataFrame\n",
    "        size: vertical and horizontal size of the plot'''\n",
    "\n",
    "    corr = df.corr()\n",
    "    fig, ax = plt.subplots(figsize=(size, size))\n",
    "    ax.imshow(corr)\n",
    "    plt.xticks(range(len(corr.columns)), corr.columns);\n",
    "    plt.yticks(range(len(corr.columns)), corr.columns);\n",
    "    \n",
    "plot_corr(df_mess_train)\n",
    "plt.title(\"Matrice de corrélation - Train\")\n",
    "plot_corr(df_mess_train)\n",
    "plt.title(\"Matrice de corrélation - Test\")\n",
    "plt.show()"
   ]
  },
  {
   "cell_type": "code",
   "execution_count": 19,
   "metadata": {},
   "outputs": [
    {
     "data": {
      "text/plain": [
       "Text(0, 0.5, 'Base Station Long')"
      ]
     },
     "execution_count": 19,
     "metadata": {},
     "output_type": "execute_result"
    },
    {
     "data": {
      "image/png": "[encoded data removed]",
      "text/plain": [
       "<Figure size 576x432 with 1 Axes>"
      ]
     },
     "metadata": {
      "needs_background": "light"
     },
     "output_type": "display_data"
    }
   ],
   "source": [
    "plt.figure(figsize=(8,6))\n",
    "plt.plot(df_mess_train['bs_lat'], df_mess_train['bs_lng'], '.')\n",
    "plt.xlabel('Base Station Lat')\n",
    "plt.ylabel('Base Station Long')"
   ]
  },
  {
   "cell_type": "code",
   "execution_count": 83,
   "metadata": {},
   "outputs": [
    {
     "data": {
      "text/html": [
       "<div>\n",
       "<style scoped>\n",
       "    .dataframe tbody tr th:only-of-type {\n",
       "        vertical-align: middle;\n",
       "    }\n",
       "\n",
       "    .dataframe tbody tr th {\n",
       "        vertical-align: top;\n",
       "    }\n",
       "\n",
       "    .dataframe thead th {\n",
       "        text-align: right;\n",
       "    }\n",
       "</style>\n",
       "<table border=\"1\" class=\"dataframe\">\n",
       "  <thead>\n",
       "    <tr style=\"text-align: right;\">\n",
       "      <th></th>\n",
       "      <th>messid</th>\n",
       "      <th>bsid</th>\n",
       "      <th>did</th>\n",
       "      <th>nseq</th>\n",
       "      <th>rssi</th>\n",
       "      <th>time_ux</th>\n",
       "      <th>bs_lat</th>\n",
       "      <th>bs_lng</th>\n",
       "    </tr>\n",
       "  </thead>\n",
       "  <tbody>\n",
       "    <tr>\n",
       "      <th>5106</th>\n",
       "      <td>57617e1ef0fe6e0c9fd6eb06</td>\n",
       "      <td>8355</td>\n",
       "      <td>476606.0</td>\n",
       "      <td>1.5</td>\n",
       "      <td>-106.5</td>\n",
       "      <td>1.466007e+12</td>\n",
       "      <td>64.3</td>\n",
       "      <td>-68.5</td>\n",
       "    </tr>\n",
       "    <tr>\n",
       "      <th>5118</th>\n",
       "      <td>576180cf3e952e04b3b41e5c</td>\n",
       "      <td>8355</td>\n",
       "      <td>476512.0</td>\n",
       "      <td>0.5</td>\n",
       "      <td>-111.5</td>\n",
       "      <td>1.466008e+12</td>\n",
       "      <td>64.3</td>\n",
       "      <td>-68.5</td>\n",
       "    </tr>\n",
       "    <tr>\n",
       "      <th>5179</th>\n",
       "      <td>5761a161f0fe6e0c9fec42b9</td>\n",
       "      <td>8355</td>\n",
       "      <td>473683.0</td>\n",
       "      <td>0.0</td>\n",
       "      <td>-126.0</td>\n",
       "      <td>1.466016e+12</td>\n",
       "      <td>64.3</td>\n",
       "      <td>-68.5</td>\n",
       "    </tr>\n",
       "    <tr>\n",
       "      <th>5216</th>\n",
       "      <td>57623817864fce5689ec33af</td>\n",
       "      <td>8355</td>\n",
       "      <td>473683.0</td>\n",
       "      <td>0.5</td>\n",
       "      <td>-127.0</td>\n",
       "      <td>1.466055e+12</td>\n",
       "      <td>64.3</td>\n",
       "      <td>-68.5</td>\n",
       "    </tr>\n",
       "    <tr>\n",
       "      <th>5416</th>\n",
       "      <td>5763734c864fce5689a422f3</td>\n",
       "      <td>8355</td>\n",
       "      <td>476600.0</td>\n",
       "      <td>1.5</td>\n",
       "      <td>-123.0</td>\n",
       "      <td>1.466135e+12</td>\n",
       "      <td>64.3</td>\n",
       "      <td>-68.5</td>\n",
       "    </tr>\n",
       "  </tbody>\n",
       "</table>\n",
       "</div>"
      ],
      "text/plain": [
       "                        messid  bsid       did  nseq   rssi       time_ux  \\\n",
       "5106  57617e1ef0fe6e0c9fd6eb06  8355  476606.0   1.5 -106.5  1.466007e+12   \n",
       "5118  576180cf3e952e04b3b41e5c  8355  476512.0   0.5 -111.5  1.466008e+12   \n",
       "5179  5761a161f0fe6e0c9fec42b9  8355  473683.0   0.0 -126.0  1.466016e+12   \n",
       "5216  57623817864fce5689ec33af  8355  473683.0   0.5 -127.0  1.466055e+12   \n",
       "5416  5763734c864fce5689a422f3  8355  476600.0   1.5 -123.0  1.466135e+12   \n",
       "\n",
       "      bs_lat  bs_lng  \n",
       "5106    64.3   -68.5  \n",
       "5118    64.3   -68.5  \n",
       "5179    64.3   -68.5  \n",
       "5216    64.3   -68.5  \n",
       "5416    64.3   -68.5  "
      ]
     },
     "execution_count": 83,
     "metadata": {},
     "output_type": "execute_result"
    }
   ],
   "source": [
    "df_mess_train[df_mess_train['bs_lat']>60].head(5)"
   ]
  },
  {
   "cell_type": "code",
   "execution_count": 88,
   "metadata": {},
   "outputs": [
    {
     "name": "stdout",
     "output_type": "stream",
     "text": [
      "Nombre de message associé au bsid :\n",
      " bsid\n",
      "1092      32\n",
      "1594     290\n",
      "1661     160\n",
      "1743     169\n",
      "1772     121\n",
      "1796     249\n",
      "1854      27\n",
      "2293       2\n",
      "2707     191\n",
      "2943      90\n",
      "4123       1\n",
      "4129     216\n",
      "4156     127\n",
      "4959       1\n",
      "4987     147\n",
      "4993     488\n",
      "7248       9\n",
      "8355     480\n",
      "8449      72\n",
      "8451     193\n",
      "8560     116\n",
      "9784       1\n",
      "10151    333\n",
      "10162    597\n",
      "10999      1\n",
      "11007    275\n",
      "11951      1\n",
      "Name: messid, dtype: int64\n",
      "\n",
      "Nombre de message total associé aux bsid dont bs_lat > 60 : 4389 \n"
     ]
    }
   ],
   "source": [
    "list_bs_outlier = df_mess_train[df_mess_train['bs_lat']>60].bsid.unique()\n",
    "len(list_bs_outlier)\n",
    "\n",
    "print('Nombre de message associé au bsid :\\n', df_mess_train[df_mess_train['bs_lat']>60].groupby('bsid').count()['messid'])\n",
    "\n",
    "print(\"\\nNombre de message total associé aux bsid dont bs_lat > 60 : {} \".format(df_mess_train[df_mess_train['bs_lat']>60].groupby('bsid').count().sum()[0]))\n"
   ]
  },
  {
   "cell_type": "code",
   "execution_count": 92,
   "metadata": {},
   "outputs": [
    {
     "data": {
      "text/html": [
       "<div>\n",
       "<style scoped>\n",
       "    .dataframe tbody tr th:only-of-type {\n",
       "        vertical-align: middle;\n",
       "    }\n",
       "\n",
       "    .dataframe tbody tr th {\n",
       "        vertical-align: top;\n",
       "    }\n",
       "\n",
       "    .dataframe thead th {\n",
       "        text-align: right;\n",
       "    }\n",
       "</style>\n",
       "<table border=\"1\" class=\"dataframe\">\n",
       "  <thead>\n",
       "    <tr style=\"text-align: right;\">\n",
       "      <th></th>\n",
       "      <th>messid</th>\n",
       "      <th>bsid</th>\n",
       "      <th>did</th>\n",
       "      <th>nseq</th>\n",
       "      <th>rssi</th>\n",
       "      <th>time_ux</th>\n",
       "      <th>bs_lat</th>\n",
       "      <th>bs_lng</th>\n",
       "    </tr>\n",
       "  </thead>\n",
       "  <tbody>\n",
       "    <tr>\n",
       "      <th>1597</th>\n",
       "      <td>57468f54f0fe6e735a49978e</td>\n",
       "      <td>3629</td>\n",
       "      <td>476197.0</td>\n",
       "      <td>0.0</td>\n",
       "      <td>-105.000000</td>\n",
       "      <td>1.464242e+12</td>\n",
       "      <td>41.938516</td>\n",
       "      <td>-106.547933</td>\n",
       "    </tr>\n",
       "    <tr>\n",
       "      <th>2072</th>\n",
       "      <td>5748acfd864fce1a9a479dab</td>\n",
       "      <td>3629</td>\n",
       "      <td>473683.0</td>\n",
       "      <td>1.0</td>\n",
       "      <td>-103.666667</td>\n",
       "      <td>1.464381e+12</td>\n",
       "      <td>41.938516</td>\n",
       "      <td>-106.547933</td>\n",
       "    </tr>\n",
       "    <tr>\n",
       "      <th>12296</th>\n",
       "      <td>579f6112cf554f465af6e59a</td>\n",
       "      <td>1828</td>\n",
       "      <td>473902.0</td>\n",
       "      <td>1.0</td>\n",
       "      <td>-139.000000</td>\n",
       "      <td>1.470063e+12</td>\n",
       "      <td>42.850670</td>\n",
       "      <td>-107.463146</td>\n",
       "    </tr>\n",
       "    <tr>\n",
       "      <th>12301</th>\n",
       "      <td>579f757012f14345916d4bc2</td>\n",
       "      <td>1828</td>\n",
       "      <td>473902.0</td>\n",
       "      <td>1.0</td>\n",
       "      <td>-132.666667</td>\n",
       "      <td>1.470068e+12</td>\n",
       "      <td>42.850670</td>\n",
       "      <td>-107.463146</td>\n",
       "    </tr>\n",
       "    <tr>\n",
       "      <th>12302</th>\n",
       "      <td>579f76db12f14345916e5154</td>\n",
       "      <td>1828</td>\n",
       "      <td>473902.0</td>\n",
       "      <td>1.0</td>\n",
       "      <td>-135.666667</td>\n",
       "      <td>1.470068e+12</td>\n",
       "      <td>42.850670</td>\n",
       "      <td>-107.463146</td>\n",
       "    </tr>\n",
       "  </tbody>\n",
       "</table>\n",
       "</div>"
      ],
      "text/plain": [
       "                         messid  bsid       did  nseq        rssi  \\\n",
       "1597   57468f54f0fe6e735a49978e  3629  476197.0   0.0 -105.000000   \n",
       "2072   5748acfd864fce1a9a479dab  3629  473683.0   1.0 -103.666667   \n",
       "12296  579f6112cf554f465af6e59a  1828  473902.0   1.0 -139.000000   \n",
       "12301  579f757012f14345916d4bc2  1828  473902.0   1.0 -132.666667   \n",
       "12302  579f76db12f14345916e5154  1828  473902.0   1.0 -135.666667   \n",
       "\n",
       "            time_ux     bs_lat      bs_lng  \n",
       "1597   1.464242e+12  41.938516 -106.547933  \n",
       "2072   1.464381e+12  41.938516 -106.547933  \n",
       "12296  1.470063e+12  42.850670 -107.463146  \n",
       "12301  1.470068e+12  42.850670 -107.463146  \n",
       "12302  1.470068e+12  42.850670 -107.463146  "
      ]
     },
     "execution_count": 92,
     "metadata": {},
     "output_type": "execute_result"
    }
   ],
   "source": [
    "df_mess_train[(df_mess_train['bs_lat']>41) & (df_mess_train['bs_lat']<45)].head(5)"
   ]
  },
  {
   "cell_type": "code",
   "execution_count": 91,
   "metadata": {},
   "outputs": [
    {
     "name": "stdout",
     "output_type": "stream",
     "text": [
      "Nombre de message associé au bsid :\n",
      " bsid\n",
      "911      1\n",
      "921      1\n",
      "944      3\n",
      "1443     1\n",
      "1828     3\n",
      "1852     3\n",
      "2800    35\n",
      "2803    32\n",
      "2808    22\n",
      "2855     1\n",
      "3501    10\n",
      "3629     3\n",
      "3630    23\n",
      "3848    29\n",
      "3933    21\n",
      "4013     4\n",
      "7508     1\n",
      "7655     1\n",
      "7972     2\n",
      "8392     1\n",
      "Name: messid, dtype: int64\n",
      "\n",
      "Nombre de message total associé aux bsid dont 45 > bs_lat > 41 : 197 \n"
     ]
    }
   ],
   "source": [
    "list_bs_outlier = df_mess_train[(df_mess_train['bs_lat']>41) & (df_mess_train['bs_lat']<45)].bsid.unique()\n",
    "\n",
    "print('Nombre de message associé au bsid :\\n', df_mess_train[(df_mess_train['bs_lat']>41) & (df_mess_train['bs_lat']<45)].groupby('bsid').count()['messid'])\n",
    "\n",
    "print(\"\\nNombre de message total associé aux bsid dont 45 > bs_lat > 41 : {} \".format(df_mess_train[(df_mess_train['bs_lat']>41) & (df_mess_train['bs_lat']<45)].groupby('bsid').count().sum()[0]))\n"
   ]
  },
  {
   "cell_type": "markdown",
   "metadata": {},
   "source": [
    "On essaye de trouver des stations de base qui ont des positions extrêmes par rapport au reste et voir si il est pertinent ou pas de les garder.\n",
    "On a donc identifié ces stations de base, puis on a regardé à combien de messages sont associés ces stations de base.\n",
    "Nous remarquons que le nombre de message total associé à ces bsid est assez significatif (environ 4000 / 39 000).\n",
    "Donc on garde ces stations de bases. \n",
    "\n",
    "Il faut donc réfléchir à d'autres éléments qui permettent un nettoyage des données."
   ]
  },
  {
   "cell_type": "markdown",
   "metadata": {},
   "source": [
    "## Feature Engineering"
   ]
  },
  {
   "cell_type": "code",
   "execution_count": 39,
   "metadata": {
    "ExecuteTime": {
     "end_time": "2018-12-14T16:34:56.495720Z",
     "start_time": "2018-12-14T16:34:56.485268Z"
    }
   },
   "outputs": [],
   "source": [
    "# Determine all Base stations that received at least 1 message\n",
    "listOfBs = np.union1d(np.unique(df_mess_train['bsid']), np.unique(df_mess_test['bsid']))\n",
    "listOfnseq = np.union1d(np.unique(df_mess_train['nseq']), np.unique(df_mess_test['nseq']))\n",
    "listNameBs = [\"bs\"+str(i+1) for i in range(len(listOfBs))]\n",
    "liste_nseq = [\"nseq\"+str(i+1) for i in range(len(listOfnseq))]"
   ]
  },
  {
   "cell_type": "code",
   "execution_count": 41,
   "metadata": {},
   "outputs": [
    {
     "data": {
      "text/plain": [
       "259"
      ]
     },
     "execution_count": 41,
     "metadata": {},
     "output_type": "execute_result"
    }
   ],
   "source": [
    "len(listNameBs)"
   ]
  },
  {
   "cell_type": "code",
   "execution_count": 14,
   "metadata": {
    "ExecuteTime": {
     "end_time": "2018-12-14T16:34:57.431373Z",
     "start_time": "2018-12-14T16:34:57.425945Z"
    }
   },
   "outputs": [],
   "source": [
    "# Feature Matrix construction \n",
    "\n",
    "def feat_mat_const(df_mess, listNameBs):\n",
    "    df_messid = pd.DataFrame(df_mess['messid'])\n",
    "    \n",
    "    bs_encoded = LabelEncoder()\n",
    "    df_mess['bs_encoded'] = bs_encoded.fit_transform(df_mess.bsid)\n",
    "\n",
    "    ohe = OneHotEncoder()\n",
    "    X = ohe.fit_transform(df_mess.bs_encoded.values.reshape(-1,1)).toarray()\n",
    "    #Xnseq = ohe.fit_transform(df_mess.nseq.values.reshape(-1,1)).toarray()\n",
    "\n",
    "    df_bs = pd.DataFrame(X, columns = listNameBs)\n",
    "    #df_nseq = pd.DataFrame(Xnseq, columns = liste_nseq)\n",
    "    df_features = df_messid.join(df_bs)\n",
    "    \n",
    "    return df_features"
   ]
  },
  {
   "cell_type": "code",
   "execution_count": 15,
   "metadata": {
    "ExecuteTime": {
     "end_time": "2018-12-14T16:34:59.469085Z",
     "start_time": "2018-12-14T16:34:58.950768Z"
    }
   },
   "outputs": [
    {
     "data": {
      "text/html": [
       "<div>\n",
       "<style scoped>\n",
       "    .dataframe tbody tr th:only-of-type {\n",
       "        vertical-align: middle;\n",
       "    }\n",
       "\n",
       "    .dataframe tbody tr th {\n",
       "        vertical-align: top;\n",
       "    }\n",
       "\n",
       "    .dataframe thead th {\n",
       "        text-align: right;\n",
       "    }\n",
       "</style>\n",
       "<table border=\"1\" class=\"dataframe\">\n",
       "  <thead>\n",
       "    <tr style=\"text-align: right;\">\n",
       "      <th></th>\n",
       "      <th>messid</th>\n",
       "      <th>bs1</th>\n",
       "      <th>bs2</th>\n",
       "      <th>bs3</th>\n",
       "      <th>bs4</th>\n",
       "      <th>bs5</th>\n",
       "      <th>bs6</th>\n",
       "      <th>bs7</th>\n",
       "      <th>bs8</th>\n",
       "      <th>bs9</th>\n",
       "      <th>...</th>\n",
       "      <th>bs250</th>\n",
       "      <th>bs251</th>\n",
       "      <th>bs252</th>\n",
       "      <th>bs253</th>\n",
       "      <th>bs254</th>\n",
       "      <th>bs255</th>\n",
       "      <th>bs256</th>\n",
       "      <th>bs257</th>\n",
       "      <th>bs258</th>\n",
       "      <th>bs259</th>\n",
       "    </tr>\n",
       "  </thead>\n",
       "  <tbody>\n",
       "    <tr>\n",
       "      <th>0</th>\n",
       "      <td>573bf1d9864fce1a9af8c5c9</td>\n",
       "      <td>0.0</td>\n",
       "      <td>0.0</td>\n",
       "      <td>0.0</td>\n",
       "      <td>0.0</td>\n",
       "      <td>0.0</td>\n",
       "      <td>0.0</td>\n",
       "      <td>0.0</td>\n",
       "      <td>0.0</td>\n",
       "      <td>0.0</td>\n",
       "      <td>...</td>\n",
       "      <td>0.0</td>\n",
       "      <td>0.0</td>\n",
       "      <td>0.0</td>\n",
       "      <td>0.0</td>\n",
       "      <td>0.0</td>\n",
       "      <td>0.0</td>\n",
       "      <td>0.0</td>\n",
       "      <td>0.0</td>\n",
       "      <td>0.0</td>\n",
       "      <td>0.0</td>\n",
       "    </tr>\n",
       "    <tr>\n",
       "      <th>0</th>\n",
       "      <td>573be2503e952e191262c351</td>\n",
       "      <td>0.0</td>\n",
       "      <td>0.0</td>\n",
       "      <td>0.0</td>\n",
       "      <td>0.0</td>\n",
       "      <td>0.0</td>\n",
       "      <td>0.0</td>\n",
       "      <td>0.0</td>\n",
       "      <td>0.0</td>\n",
       "      <td>0.0</td>\n",
       "      <td>...</td>\n",
       "      <td>0.0</td>\n",
       "      <td>0.0</td>\n",
       "      <td>0.0</td>\n",
       "      <td>0.0</td>\n",
       "      <td>0.0</td>\n",
       "      <td>0.0</td>\n",
       "      <td>0.0</td>\n",
       "      <td>0.0</td>\n",
       "      <td>0.0</td>\n",
       "      <td>0.0</td>\n",
       "    </tr>\n",
       "    <tr>\n",
       "      <th>1</th>\n",
       "      <td>573bf1d9864fce1a9af8c5c9</td>\n",
       "      <td>0.0</td>\n",
       "      <td>0.0</td>\n",
       "      <td>0.0</td>\n",
       "      <td>0.0</td>\n",
       "      <td>0.0</td>\n",
       "      <td>0.0</td>\n",
       "      <td>0.0</td>\n",
       "      <td>0.0</td>\n",
       "      <td>0.0</td>\n",
       "      <td>...</td>\n",
       "      <td>0.0</td>\n",
       "      <td>0.0</td>\n",
       "      <td>0.0</td>\n",
       "      <td>0.0</td>\n",
       "      <td>0.0</td>\n",
       "      <td>0.0</td>\n",
       "      <td>0.0</td>\n",
       "      <td>0.0</td>\n",
       "      <td>0.0</td>\n",
       "      <td>0.0</td>\n",
       "    </tr>\n",
       "    <tr>\n",
       "      <th>1</th>\n",
       "      <td>573c05f83e952e1912758013</td>\n",
       "      <td>0.0</td>\n",
       "      <td>0.0</td>\n",
       "      <td>0.0</td>\n",
       "      <td>0.0</td>\n",
       "      <td>0.0</td>\n",
       "      <td>0.0</td>\n",
       "      <td>0.0</td>\n",
       "      <td>0.0</td>\n",
       "      <td>0.0</td>\n",
       "      <td>...</td>\n",
       "      <td>0.0</td>\n",
       "      <td>0.0</td>\n",
       "      <td>0.0</td>\n",
       "      <td>0.0</td>\n",
       "      <td>0.0</td>\n",
       "      <td>0.0</td>\n",
       "      <td>0.0</td>\n",
       "      <td>0.0</td>\n",
       "      <td>0.0</td>\n",
       "      <td>0.0</td>\n",
       "    </tr>\n",
       "    <tr>\n",
       "      <th>2</th>\n",
       "      <td>573bf3533e952e19126b256a</td>\n",
       "      <td>0.0</td>\n",
       "      <td>0.0</td>\n",
       "      <td>0.0</td>\n",
       "      <td>0.0</td>\n",
       "      <td>0.0</td>\n",
       "      <td>0.0</td>\n",
       "      <td>0.0</td>\n",
       "      <td>0.0</td>\n",
       "      <td>0.0</td>\n",
       "      <td>...</td>\n",
       "      <td>0.0</td>\n",
       "      <td>0.0</td>\n",
       "      <td>0.0</td>\n",
       "      <td>0.0</td>\n",
       "      <td>0.0</td>\n",
       "      <td>0.0</td>\n",
       "      <td>0.0</td>\n",
       "      <td>0.0</td>\n",
       "      <td>0.0</td>\n",
       "      <td>0.0</td>\n",
       "    </tr>\n",
       "  </tbody>\n",
       "</table>\n",
       "<p>5 rows × 260 columns</p>\n",
       "</div>"
      ],
      "text/plain": [
       "                     messid  bs1  bs2  bs3  bs4  bs5  bs6  bs7  bs8  bs9  \\\n",
       "0  573bf1d9864fce1a9af8c5c9  0.0  0.0  0.0  0.0  0.0  0.0  0.0  0.0  0.0   \n",
       "0  573be2503e952e191262c351  0.0  0.0  0.0  0.0  0.0  0.0  0.0  0.0  0.0   \n",
       "1  573bf1d9864fce1a9af8c5c9  0.0  0.0  0.0  0.0  0.0  0.0  0.0  0.0  0.0   \n",
       "1  573c05f83e952e1912758013  0.0  0.0  0.0  0.0  0.0  0.0  0.0  0.0  0.0   \n",
       "2  573bf3533e952e19126b256a  0.0  0.0  0.0  0.0  0.0  0.0  0.0  0.0  0.0   \n",
       "\n",
       "   ...    bs250  bs251  bs252  bs253  bs254  bs255  bs256  bs257  bs258  bs259  \n",
       "0  ...      0.0    0.0    0.0    0.0    0.0    0.0    0.0    0.0    0.0    0.0  \n",
       "0  ...      0.0    0.0    0.0    0.0    0.0    0.0    0.0    0.0    0.0    0.0  \n",
       "1  ...      0.0    0.0    0.0    0.0    0.0    0.0    0.0    0.0    0.0    0.0  \n",
       "1  ...      0.0    0.0    0.0    0.0    0.0    0.0    0.0    0.0    0.0    0.0  \n",
       "2  ...      0.0    0.0    0.0    0.0    0.0    0.0    0.0    0.0    0.0    0.0  \n",
       "\n",
       "[5 rows x 260 columns]"
      ]
     },
     "execution_count": 15,
     "metadata": {},
     "output_type": "execute_result"
    }
   ],
   "source": [
    "# DataFrame features\n",
    "df_feat = feat_mat_const(df_concact, listNameBs)\n",
    "df_feat.head(5)\n",
    "#df_features = df_features.iloc[:df_mess_train.shape[0],:]"
   ]
  },
  {
   "cell_type": "code",
   "execution_count": 16,
   "metadata": {
    "ExecuteTime": {
     "end_time": "2018-12-14T16:34:59.810856Z",
     "start_time": "2018-12-14T16:34:59.471554Z"
    }
   },
   "outputs": [
    {
     "data": {
      "text/html": [
       "<div>\n",
       "<style scoped>\n",
       "    .dataframe tbody tr th:only-of-type {\n",
       "        vertical-align: middle;\n",
       "    }\n",
       "\n",
       "    .dataframe tbody tr th {\n",
       "        vertical-align: top;\n",
       "    }\n",
       "\n",
       "    .dataframe thead th {\n",
       "        text-align: right;\n",
       "    }\n",
       "</style>\n",
       "<table border=\"1\" class=\"dataframe\">\n",
       "  <thead>\n",
       "    <tr style=\"text-align: right;\">\n",
       "      <th></th>\n",
       "      <th>bs1</th>\n",
       "      <th>bs2</th>\n",
       "      <th>bs3</th>\n",
       "      <th>bs4</th>\n",
       "      <th>bs5</th>\n",
       "      <th>bs6</th>\n",
       "      <th>bs7</th>\n",
       "      <th>bs8</th>\n",
       "      <th>bs9</th>\n",
       "      <th>bs10</th>\n",
       "      <th>...</th>\n",
       "      <th>bs250</th>\n",
       "      <th>bs251</th>\n",
       "      <th>bs252</th>\n",
       "      <th>bs253</th>\n",
       "      <th>bs254</th>\n",
       "      <th>bs255</th>\n",
       "      <th>bs256</th>\n",
       "      <th>bs257</th>\n",
       "      <th>bs258</th>\n",
       "      <th>bs259</th>\n",
       "    </tr>\n",
       "    <tr>\n",
       "      <th>messid</th>\n",
       "      <th></th>\n",
       "      <th></th>\n",
       "      <th></th>\n",
       "      <th></th>\n",
       "      <th></th>\n",
       "      <th></th>\n",
       "      <th></th>\n",
       "      <th></th>\n",
       "      <th></th>\n",
       "      <th></th>\n",
       "      <th></th>\n",
       "      <th></th>\n",
       "      <th></th>\n",
       "      <th></th>\n",
       "      <th></th>\n",
       "      <th></th>\n",
       "      <th></th>\n",
       "      <th></th>\n",
       "      <th></th>\n",
       "      <th></th>\n",
       "      <th></th>\n",
       "    </tr>\n",
       "  </thead>\n",
       "  <tbody>\n",
       "    <tr>\n",
       "      <th>573be2503e952e191262c351</th>\n",
       "      <td>0.0</td>\n",
       "      <td>0.0</td>\n",
       "      <td>0.0</td>\n",
       "      <td>0.0</td>\n",
       "      <td>0.0</td>\n",
       "      <td>0.0</td>\n",
       "      <td>0.0</td>\n",
       "      <td>0.0</td>\n",
       "      <td>0.0</td>\n",
       "      <td>0.0</td>\n",
       "      <td>...</td>\n",
       "      <td>0.0</td>\n",
       "      <td>0.0</td>\n",
       "      <td>0.0</td>\n",
       "      <td>0.0</td>\n",
       "      <td>0.0</td>\n",
       "      <td>0.0</td>\n",
       "      <td>0.0</td>\n",
       "      <td>0.0</td>\n",
       "      <td>0.0</td>\n",
       "      <td>0.0</td>\n",
       "    </tr>\n",
       "    <tr>\n",
       "      <th>573bf1d9864fce1a9af8c5c9</th>\n",
       "      <td>0.0</td>\n",
       "      <td>0.0</td>\n",
       "      <td>0.0</td>\n",
       "      <td>0.0</td>\n",
       "      <td>0.0</td>\n",
       "      <td>0.0</td>\n",
       "      <td>0.0</td>\n",
       "      <td>0.0</td>\n",
       "      <td>0.0</td>\n",
       "      <td>0.0</td>\n",
       "      <td>...</td>\n",
       "      <td>0.0</td>\n",
       "      <td>0.0</td>\n",
       "      <td>0.0</td>\n",
       "      <td>0.0</td>\n",
       "      <td>0.0</td>\n",
       "      <td>0.0</td>\n",
       "      <td>0.0</td>\n",
       "      <td>0.0</td>\n",
       "      <td>0.0</td>\n",
       "      <td>0.0</td>\n",
       "    </tr>\n",
       "    <tr>\n",
       "      <th>573bf3533e952e19126b256a</th>\n",
       "      <td>0.0</td>\n",
       "      <td>0.0</td>\n",
       "      <td>0.0</td>\n",
       "      <td>0.0</td>\n",
       "      <td>0.0</td>\n",
       "      <td>0.0</td>\n",
       "      <td>0.0</td>\n",
       "      <td>0.0</td>\n",
       "      <td>0.0</td>\n",
       "      <td>0.0</td>\n",
       "      <td>...</td>\n",
       "      <td>0.0</td>\n",
       "      <td>0.0</td>\n",
       "      <td>0.0</td>\n",
       "      <td>0.0</td>\n",
       "      <td>0.0</td>\n",
       "      <td>0.0</td>\n",
       "      <td>0.0</td>\n",
       "      <td>0.0</td>\n",
       "      <td>0.0</td>\n",
       "      <td>0.0</td>\n",
       "    </tr>\n",
       "    <tr>\n",
       "      <th>573c05f83e952e1912758013</th>\n",
       "      <td>0.0</td>\n",
       "      <td>0.0</td>\n",
       "      <td>0.0</td>\n",
       "      <td>0.0</td>\n",
       "      <td>0.0</td>\n",
       "      <td>0.0</td>\n",
       "      <td>0.0</td>\n",
       "      <td>0.0</td>\n",
       "      <td>0.0</td>\n",
       "      <td>0.0</td>\n",
       "      <td>...</td>\n",
       "      <td>0.0</td>\n",
       "      <td>0.0</td>\n",
       "      <td>0.0</td>\n",
       "      <td>0.0</td>\n",
       "      <td>0.0</td>\n",
       "      <td>0.0</td>\n",
       "      <td>0.0</td>\n",
       "      <td>0.0</td>\n",
       "      <td>0.0</td>\n",
       "      <td>0.0</td>\n",
       "    </tr>\n",
       "    <tr>\n",
       "      <th>573c0796f0fe6e735a66deb3</th>\n",
       "      <td>0.0</td>\n",
       "      <td>0.0</td>\n",
       "      <td>0.0</td>\n",
       "      <td>0.0</td>\n",
       "      <td>0.0</td>\n",
       "      <td>0.0</td>\n",
       "      <td>1.0</td>\n",
       "      <td>0.0</td>\n",
       "      <td>0.0</td>\n",
       "      <td>0.0</td>\n",
       "      <td>...</td>\n",
       "      <td>0.0</td>\n",
       "      <td>0.0</td>\n",
       "      <td>0.0</td>\n",
       "      <td>0.0</td>\n",
       "      <td>0.0</td>\n",
       "      <td>0.0</td>\n",
       "      <td>0.0</td>\n",
       "      <td>0.0</td>\n",
       "      <td>0.0</td>\n",
       "      <td>0.0</td>\n",
       "    </tr>\n",
       "  </tbody>\n",
       "</table>\n",
       "<p>5 rows × 259 columns</p>\n",
       "</div>"
      ],
      "text/plain": [
       "                          bs1  bs2  bs3  bs4  bs5  bs6  bs7  bs8  bs9  bs10  \\\n",
       "messid                                                                        \n",
       "573be2503e952e191262c351  0.0  0.0  0.0  0.0  0.0  0.0  0.0  0.0  0.0   0.0   \n",
       "573bf1d9864fce1a9af8c5c9  0.0  0.0  0.0  0.0  0.0  0.0  0.0  0.0  0.0   0.0   \n",
       "573bf3533e952e19126b256a  0.0  0.0  0.0  0.0  0.0  0.0  0.0  0.0  0.0   0.0   \n",
       "573c05f83e952e1912758013  0.0  0.0  0.0  0.0  0.0  0.0  0.0  0.0  0.0   0.0   \n",
       "573c0796f0fe6e735a66deb3  0.0  0.0  0.0  0.0  0.0  0.0  1.0  0.0  0.0   0.0   \n",
       "\n",
       "                          ...    bs250  bs251  bs252  bs253  bs254  bs255  \\\n",
       "messid                    ...                                               \n",
       "573be2503e952e191262c351  ...      0.0    0.0    0.0    0.0    0.0    0.0   \n",
       "573bf1d9864fce1a9af8c5c9  ...      0.0    0.0    0.0    0.0    0.0    0.0   \n",
       "573bf3533e952e19126b256a  ...      0.0    0.0    0.0    0.0    0.0    0.0   \n",
       "573c05f83e952e1912758013  ...      0.0    0.0    0.0    0.0    0.0    0.0   \n",
       "573c0796f0fe6e735a66deb3  ...      0.0    0.0    0.0    0.0    0.0    0.0   \n",
       "\n",
       "                          bs256  bs257  bs258  bs259  \n",
       "messid                                                \n",
       "573be2503e952e191262c351    0.0    0.0    0.0    0.0  \n",
       "573bf1d9864fce1a9af8c5c9    0.0    0.0    0.0    0.0  \n",
       "573bf3533e952e19126b256a    0.0    0.0    0.0    0.0  \n",
       "573c05f83e952e1912758013    0.0    0.0    0.0    0.0  \n",
       "573c0796f0fe6e735a66deb3    0.0    0.0    0.0    0.0  \n",
       "\n",
       "[5 rows x 259 columns]"
      ]
     },
     "execution_count": 16,
     "metadata": {},
     "output_type": "execute_result"
    }
   ],
   "source": [
    "# Groupe par messid\n",
    "df_features = df_feat.groupby(['messid']).sum()\n",
    "df_features.head(5)"
   ]
  },
  {
   "cell_type": "code",
   "execution_count": 17,
   "metadata": {
    "ExecuteTime": {
     "end_time": "2018-12-14T16:34:59.950762Z",
     "start_time": "2018-12-14T16:34:59.883768Z"
    }
   },
   "outputs": [
    {
     "data": {
      "text/html": [
       "<div>\n",
       "<style scoped>\n",
       "    .dataframe tbody tr th:only-of-type {\n",
       "        vertical-align: middle;\n",
       "    }\n",
       "\n",
       "    .dataframe tbody tr th {\n",
       "        vertical-align: top;\n",
       "    }\n",
       "\n",
       "    .dataframe thead th {\n",
       "        text-align: right;\n",
       "    }\n",
       "</style>\n",
       "<table border=\"1\" class=\"dataframe\">\n",
       "  <thead>\n",
       "    <tr style=\"text-align: right;\">\n",
       "      <th></th>\n",
       "      <th>bs1</th>\n",
       "      <th>bs2</th>\n",
       "      <th>bs3</th>\n",
       "      <th>bs4</th>\n",
       "      <th>bs5</th>\n",
       "      <th>bs6</th>\n",
       "      <th>bs7</th>\n",
       "      <th>bs8</th>\n",
       "      <th>bs9</th>\n",
       "      <th>bs10</th>\n",
       "      <th>...</th>\n",
       "      <th>bs252</th>\n",
       "      <th>bs253</th>\n",
       "      <th>bs254</th>\n",
       "      <th>bs255</th>\n",
       "      <th>bs256</th>\n",
       "      <th>bs257</th>\n",
       "      <th>bs258</th>\n",
       "      <th>bs259</th>\n",
       "      <th>mean_lat</th>\n",
       "      <th>mean_lng</th>\n",
       "    </tr>\n",
       "    <tr>\n",
       "      <th>messid</th>\n",
       "      <th></th>\n",
       "      <th></th>\n",
       "      <th></th>\n",
       "      <th></th>\n",
       "      <th></th>\n",
       "      <th></th>\n",
       "      <th></th>\n",
       "      <th></th>\n",
       "      <th></th>\n",
       "      <th></th>\n",
       "      <th></th>\n",
       "      <th></th>\n",
       "      <th></th>\n",
       "      <th></th>\n",
       "      <th></th>\n",
       "      <th></th>\n",
       "      <th></th>\n",
       "      <th></th>\n",
       "      <th></th>\n",
       "      <th></th>\n",
       "      <th></th>\n",
       "    </tr>\n",
       "  </thead>\n",
       "  <tbody>\n",
       "    <tr>\n",
       "      <th>573be2503e952e191262c351</th>\n",
       "      <td>0.0</td>\n",
       "      <td>0.0</td>\n",
       "      <td>0.0</td>\n",
       "      <td>0.0</td>\n",
       "      <td>0.0</td>\n",
       "      <td>0.0</td>\n",
       "      <td>0.0</td>\n",
       "      <td>0.0</td>\n",
       "      <td>0.0</td>\n",
       "      <td>0.0</td>\n",
       "      <td>...</td>\n",
       "      <td>0.0</td>\n",
       "      <td>0.0</td>\n",
       "      <td>0.0</td>\n",
       "      <td>0.0</td>\n",
       "      <td>0.0</td>\n",
       "      <td>0.0</td>\n",
       "      <td>0.0</td>\n",
       "      <td>0.0</td>\n",
       "      <td>39.728651</td>\n",
       "      <td>-105.163032</td>\n",
       "    </tr>\n",
       "    <tr>\n",
       "      <th>573bf1d9864fce1a9af8c5c9</th>\n",
       "      <td>0.0</td>\n",
       "      <td>0.0</td>\n",
       "      <td>0.0</td>\n",
       "      <td>0.0</td>\n",
       "      <td>0.0</td>\n",
       "      <td>0.0</td>\n",
       "      <td>0.0</td>\n",
       "      <td>0.0</td>\n",
       "      <td>0.0</td>\n",
       "      <td>0.0</td>\n",
       "      <td>...</td>\n",
       "      <td>0.0</td>\n",
       "      <td>0.0</td>\n",
       "      <td>0.0</td>\n",
       "      <td>0.0</td>\n",
       "      <td>0.0</td>\n",
       "      <td>0.0</td>\n",
       "      <td>0.0</td>\n",
       "      <td>0.0</td>\n",
       "      <td>39.647522</td>\n",
       "      <td>-104.953819</td>\n",
       "    </tr>\n",
       "    <tr>\n",
       "      <th>573bf3533e952e19126b256a</th>\n",
       "      <td>0.0</td>\n",
       "      <td>0.0</td>\n",
       "      <td>0.0</td>\n",
       "      <td>0.0</td>\n",
       "      <td>0.0</td>\n",
       "      <td>0.0</td>\n",
       "      <td>0.0</td>\n",
       "      <td>0.0</td>\n",
       "      <td>0.0</td>\n",
       "      <td>0.0</td>\n",
       "      <td>...</td>\n",
       "      <td>0.0</td>\n",
       "      <td>0.0</td>\n",
       "      <td>0.0</td>\n",
       "      <td>0.0</td>\n",
       "      <td>0.0</td>\n",
       "      <td>0.0</td>\n",
       "      <td>0.0</td>\n",
       "      <td>0.0</td>\n",
       "      <td>39.612745</td>\n",
       "      <td>-105.008827</td>\n",
       "    </tr>\n",
       "    <tr>\n",
       "      <th>573c05f83e952e1912758013</th>\n",
       "      <td>0.0</td>\n",
       "      <td>0.0</td>\n",
       "      <td>0.0</td>\n",
       "      <td>0.0</td>\n",
       "      <td>0.0</td>\n",
       "      <td>0.0</td>\n",
       "      <td>0.0</td>\n",
       "      <td>0.0</td>\n",
       "      <td>0.0</td>\n",
       "      <td>0.0</td>\n",
       "      <td>...</td>\n",
       "      <td>0.0</td>\n",
       "      <td>0.0</td>\n",
       "      <td>0.0</td>\n",
       "      <td>0.0</td>\n",
       "      <td>0.0</td>\n",
       "      <td>0.0</td>\n",
       "      <td>0.0</td>\n",
       "      <td>0.0</td>\n",
       "      <td>39.763474</td>\n",
       "      <td>-105.094321</td>\n",
       "    </tr>\n",
       "    <tr>\n",
       "      <th>573c0796f0fe6e735a66deb3</th>\n",
       "      <td>0.0</td>\n",
       "      <td>0.0</td>\n",
       "      <td>0.0</td>\n",
       "      <td>0.0</td>\n",
       "      <td>0.0</td>\n",
       "      <td>0.0</td>\n",
       "      <td>1.0</td>\n",
       "      <td>0.0</td>\n",
       "      <td>0.0</td>\n",
       "      <td>0.0</td>\n",
       "      <td>...</td>\n",
       "      <td>0.0</td>\n",
       "      <td>0.0</td>\n",
       "      <td>0.0</td>\n",
       "      <td>0.0</td>\n",
       "      <td>0.0</td>\n",
       "      <td>0.0</td>\n",
       "      <td>0.0</td>\n",
       "      <td>0.0</td>\n",
       "      <td>39.666322</td>\n",
       "      <td>-105.028319</td>\n",
       "    </tr>\n",
       "  </tbody>\n",
       "</table>\n",
       "<p>5 rows × 261 columns</p>\n",
       "</div>"
      ],
      "text/plain": [
       "                          bs1  bs2  bs3  bs4  bs5  bs6  bs7  bs8  bs9  bs10  \\\n",
       "messid                                                                        \n",
       "573be2503e952e191262c351  0.0  0.0  0.0  0.0  0.0  0.0  0.0  0.0  0.0   0.0   \n",
       "573bf1d9864fce1a9af8c5c9  0.0  0.0  0.0  0.0  0.0  0.0  0.0  0.0  0.0   0.0   \n",
       "573bf3533e952e19126b256a  0.0  0.0  0.0  0.0  0.0  0.0  0.0  0.0  0.0   0.0   \n",
       "573c05f83e952e1912758013  0.0  0.0  0.0  0.0  0.0  0.0  0.0  0.0  0.0   0.0   \n",
       "573c0796f0fe6e735a66deb3  0.0  0.0  0.0  0.0  0.0  0.0  1.0  0.0  0.0   0.0   \n",
       "\n",
       "                             ...      bs252  bs253  bs254  bs255  bs256  \\\n",
       "messid                       ...                                          \n",
       "573be2503e952e191262c351     ...        0.0    0.0    0.0    0.0    0.0   \n",
       "573bf1d9864fce1a9af8c5c9     ...        0.0    0.0    0.0    0.0    0.0   \n",
       "573bf3533e952e19126b256a     ...        0.0    0.0    0.0    0.0    0.0   \n",
       "573c05f83e952e1912758013     ...        0.0    0.0    0.0    0.0    0.0   \n",
       "573c0796f0fe6e735a66deb3     ...        0.0    0.0    0.0    0.0    0.0   \n",
       "\n",
       "                          bs257  bs258  bs259   mean_lat    mean_lng  \n",
       "messid                                                                \n",
       "573be2503e952e191262c351    0.0    0.0    0.0  39.728651 -105.163032  \n",
       "573bf1d9864fce1a9af8c5c9    0.0    0.0    0.0  39.647522 -104.953819  \n",
       "573bf3533e952e19126b256a    0.0    0.0    0.0  39.612745 -105.008827  \n",
       "573c05f83e952e1912758013    0.0    0.0    0.0  39.763474 -105.094321  \n",
       "573c0796f0fe6e735a66deb3    0.0    0.0    0.0  39.666322 -105.028319  \n",
       "\n",
       "[5 rows x 261 columns]"
      ]
     },
     "execution_count": 17,
     "metadata": {},
     "output_type": "execute_result"
    }
   ],
   "source": [
    "# Addition de features latitude et longitude moyenne\n",
    "df_grouped = df_concact.groupby(['messid'])\n",
    "df_lat = np.array(df_grouped.mean()['bs_lat'])\n",
    "df_long = np.array(df_grouped.mean()['bs_lng'])\n",
    "\n",
    "df_features['mean_lat'] = df_lat\n",
    "df_features['mean_lng'] = df_long\n",
    "\n",
    "df_features.head(5)"
   ]
  },
  {
   "cell_type": "code",
   "execution_count": 19,
   "metadata": {
    "ExecuteTime": {
     "end_time": "2018-12-14T16:35:12.501596Z",
     "start_time": "2018-12-14T16:35:00.544554Z"
    }
   },
   "outputs": [
    {
     "data": {
      "text/html": [
       "<div>\n",
       "<style scoped>\n",
       "    .dataframe tbody tr th:only-of-type {\n",
       "        vertical-align: middle;\n",
       "    }\n",
       "\n",
       "    .dataframe tbody tr th {\n",
       "        vertical-align: top;\n",
       "    }\n",
       "\n",
       "    .dataframe thead th {\n",
       "        text-align: right;\n",
       "    }\n",
       "</style>\n",
       "<table border=\"1\" class=\"dataframe\">\n",
       "  <thead>\n",
       "    <tr style=\"text-align: right;\">\n",
       "      <th></th>\n",
       "      <th>bs1</th>\n",
       "      <th>bs2</th>\n",
       "      <th>bs3</th>\n",
       "      <th>bs4</th>\n",
       "      <th>bs5</th>\n",
       "      <th>bs6</th>\n",
       "      <th>bs7</th>\n",
       "      <th>bs8</th>\n",
       "      <th>bs9</th>\n",
       "      <th>bs10</th>\n",
       "      <th>...</th>\n",
       "      <th>bs254</th>\n",
       "      <th>bs255</th>\n",
       "      <th>bs256</th>\n",
       "      <th>bs257</th>\n",
       "      <th>bs258</th>\n",
       "      <th>bs259</th>\n",
       "      <th>mean_lat</th>\n",
       "      <th>mean_lng</th>\n",
       "      <th>mean_lat_rssi</th>\n",
       "      <th>mean_lng_rssi</th>\n",
       "    </tr>\n",
       "    <tr>\n",
       "      <th>messid</th>\n",
       "      <th></th>\n",
       "      <th></th>\n",
       "      <th></th>\n",
       "      <th></th>\n",
       "      <th></th>\n",
       "      <th></th>\n",
       "      <th></th>\n",
       "      <th></th>\n",
       "      <th></th>\n",
       "      <th></th>\n",
       "      <th></th>\n",
       "      <th></th>\n",
       "      <th></th>\n",
       "      <th></th>\n",
       "      <th></th>\n",
       "      <th></th>\n",
       "      <th></th>\n",
       "      <th></th>\n",
       "      <th></th>\n",
       "      <th></th>\n",
       "      <th></th>\n",
       "    </tr>\n",
       "  </thead>\n",
       "  <tbody>\n",
       "    <tr>\n",
       "      <th>573be2503e952e191262c351</th>\n",
       "      <td>0.0</td>\n",
       "      <td>0.0</td>\n",
       "      <td>0.0</td>\n",
       "      <td>0.0</td>\n",
       "      <td>0.0</td>\n",
       "      <td>0.0</td>\n",
       "      <td>0.0</td>\n",
       "      <td>0.0</td>\n",
       "      <td>0.0</td>\n",
       "      <td>0.0</td>\n",
       "      <td>...</td>\n",
       "      <td>0.0</td>\n",
       "      <td>0.0</td>\n",
       "      <td>0.0</td>\n",
       "      <td>0.0</td>\n",
       "      <td>0.0</td>\n",
       "      <td>0.0</td>\n",
       "      <td>39.728651</td>\n",
       "      <td>-105.163032</td>\n",
       "      <td>39.728651</td>\n",
       "      <td>-105.163032</td>\n",
       "    </tr>\n",
       "    <tr>\n",
       "      <th>573bf1d9864fce1a9af8c5c9</th>\n",
       "      <td>0.0</td>\n",
       "      <td>0.0</td>\n",
       "      <td>0.0</td>\n",
       "      <td>0.0</td>\n",
       "      <td>0.0</td>\n",
       "      <td>0.0</td>\n",
       "      <td>0.0</td>\n",
       "      <td>0.0</td>\n",
       "      <td>0.0</td>\n",
       "      <td>0.0</td>\n",
       "      <td>...</td>\n",
       "      <td>0.0</td>\n",
       "      <td>0.0</td>\n",
       "      <td>0.0</td>\n",
       "      <td>0.0</td>\n",
       "      <td>0.0</td>\n",
       "      <td>0.0</td>\n",
       "      <td>39.647522</td>\n",
       "      <td>-104.953819</td>\n",
       "      <td>39.647945</td>\n",
       "      <td>-104.953803</td>\n",
       "    </tr>\n",
       "    <tr>\n",
       "      <th>573bf3533e952e19126b256a</th>\n",
       "      <td>0.0</td>\n",
       "      <td>0.0</td>\n",
       "      <td>0.0</td>\n",
       "      <td>0.0</td>\n",
       "      <td>0.0</td>\n",
       "      <td>0.0</td>\n",
       "      <td>0.0</td>\n",
       "      <td>0.0</td>\n",
       "      <td>0.0</td>\n",
       "      <td>0.0</td>\n",
       "      <td>...</td>\n",
       "      <td>0.0</td>\n",
       "      <td>0.0</td>\n",
       "      <td>0.0</td>\n",
       "      <td>0.0</td>\n",
       "      <td>0.0</td>\n",
       "      <td>0.0</td>\n",
       "      <td>39.612745</td>\n",
       "      <td>-105.008827</td>\n",
       "      <td>39.612745</td>\n",
       "      <td>-105.008827</td>\n",
       "    </tr>\n",
       "    <tr>\n",
       "      <th>573c05f83e952e1912758013</th>\n",
       "      <td>0.0</td>\n",
       "      <td>0.0</td>\n",
       "      <td>0.0</td>\n",
       "      <td>0.0</td>\n",
       "      <td>0.0</td>\n",
       "      <td>0.0</td>\n",
       "      <td>0.0</td>\n",
       "      <td>0.0</td>\n",
       "      <td>0.0</td>\n",
       "      <td>0.0</td>\n",
       "      <td>...</td>\n",
       "      <td>0.0</td>\n",
       "      <td>0.0</td>\n",
       "      <td>0.0</td>\n",
       "      <td>0.0</td>\n",
       "      <td>0.0</td>\n",
       "      <td>0.0</td>\n",
       "      <td>39.763474</td>\n",
       "      <td>-105.094321</td>\n",
       "      <td>39.762881</td>\n",
       "      <td>-105.094231</td>\n",
       "    </tr>\n",
       "    <tr>\n",
       "      <th>573c0796f0fe6e735a66deb3</th>\n",
       "      <td>0.0</td>\n",
       "      <td>0.0</td>\n",
       "      <td>0.0</td>\n",
       "      <td>0.0</td>\n",
       "      <td>0.0</td>\n",
       "      <td>0.0</td>\n",
       "      <td>1.0</td>\n",
       "      <td>0.0</td>\n",
       "      <td>0.0</td>\n",
       "      <td>0.0</td>\n",
       "      <td>...</td>\n",
       "      <td>0.0</td>\n",
       "      <td>0.0</td>\n",
       "      <td>0.0</td>\n",
       "      <td>0.0</td>\n",
       "      <td>0.0</td>\n",
       "      <td>0.0</td>\n",
       "      <td>39.666322</td>\n",
       "      <td>-105.028319</td>\n",
       "      <td>39.666015</td>\n",
       "      <td>-105.027857</td>\n",
       "    </tr>\n",
       "  </tbody>\n",
       "</table>\n",
       "<p>5 rows × 263 columns</p>\n",
       "</div>"
      ],
      "text/plain": [
       "                          bs1  bs2  bs3  bs4  bs5  bs6  bs7  bs8  bs9  bs10  \\\n",
       "messid                                                                        \n",
       "573be2503e952e191262c351  0.0  0.0  0.0  0.0  0.0  0.0  0.0  0.0  0.0   0.0   \n",
       "573bf1d9864fce1a9af8c5c9  0.0  0.0  0.0  0.0  0.0  0.0  0.0  0.0  0.0   0.0   \n",
       "573bf3533e952e19126b256a  0.0  0.0  0.0  0.0  0.0  0.0  0.0  0.0  0.0   0.0   \n",
       "573c05f83e952e1912758013  0.0  0.0  0.0  0.0  0.0  0.0  0.0  0.0  0.0   0.0   \n",
       "573c0796f0fe6e735a66deb3  0.0  0.0  0.0  0.0  0.0  0.0  1.0  0.0  0.0   0.0   \n",
       "\n",
       "                              ...        bs254  bs255  bs256  bs257  bs258  \\\n",
       "messid                        ...                                            \n",
       "573be2503e952e191262c351      ...          0.0    0.0    0.0    0.0    0.0   \n",
       "573bf1d9864fce1a9af8c5c9      ...          0.0    0.0    0.0    0.0    0.0   \n",
       "573bf3533e952e19126b256a      ...          0.0    0.0    0.0    0.0    0.0   \n",
       "573c05f83e952e1912758013      ...          0.0    0.0    0.0    0.0    0.0   \n",
       "573c0796f0fe6e735a66deb3      ...          0.0    0.0    0.0    0.0    0.0   \n",
       "\n",
       "                          bs259   mean_lat    mean_lng  mean_lat_rssi  \\\n",
       "messid                                                                  \n",
       "573be2503e952e191262c351    0.0  39.728651 -105.163032      39.728651   \n",
       "573bf1d9864fce1a9af8c5c9    0.0  39.647522 -104.953819      39.647945   \n",
       "573bf3533e952e19126b256a    0.0  39.612745 -105.008827      39.612745   \n",
       "573c05f83e952e1912758013    0.0  39.763474 -105.094321      39.762881   \n",
       "573c0796f0fe6e735a66deb3    0.0  39.666322 -105.028319      39.666015   \n",
       "\n",
       "                          mean_lng_rssi  \n",
       "messid                                   \n",
       "573be2503e952e191262c351    -105.163032  \n",
       "573bf1d9864fce1a9af8c5c9    -104.953803  \n",
       "573bf3533e952e19126b256a    -105.008827  \n",
       "573c05f83e952e1912758013    -105.094231  \n",
       "573c0796f0fe6e735a66deb3    -105.027857  \n",
       "\n",
       "[5 rows x 263 columns]"
      ]
     },
     "execution_count": 19,
     "metadata": {},
     "output_type": "execute_result"
    }
   ],
   "source": [
    "# Addition de features latitude et longitude moyenne pondérées par rssi\n",
    "df_lat_rssi = df_grouped.apply(lambda x: pd.Series([np.average(x['bs_lat'], weights=x['rssi'])], index=['messid'])).unstack()\n",
    "df_lng_rssi = df_grouped.apply(lambda x: pd.Series([np.average(x['bs_lng'], weights=x['rssi'])], index=['messid'])).unstack()\n",
    "\n",
    "df_features['mean_lat_rssi'] = np.array(df_lat_rssi)\n",
    "df_features['mean_lng_rssi'] = np.array(df_lng_rssi)\n",
    "\n",
    "df_features.head(5)\n",
    "#print(df_features.shape[0])"
   ]
  },
  {
   "cell_type": "markdown",
   "metadata": {},
   "source": [
    "Remarque : \n",
    "\n",
    "- J'ai tenté d'ajouter la moyenne des latitude et longitude pondérées par nseq mais problème car dans le cas où nseq = 0, problème de division par 0."
   ]
  },
  {
   "cell_type": "markdown",
   "metadata": {},
   "source": [
    "## Suite"
   ]
  },
  {
   "cell_type": "code",
   "execution_count": 20,
   "metadata": {
    "ExecuteTime": {
     "end_time": "2018-12-14T16:35:12.509521Z",
     "start_time": "2018-12-14T16:35:12.504562Z"
    }
   },
   "outputs": [],
   "source": [
    "# ground truth construction\n",
    "def ground_truth_const(df_mess_train, pos_train):\n",
    "\n",
    "    df_mess_pos = df_mess_train.copy()\n",
    "    df_mess_pos[['lat', 'lng']] = pos_train\n",
    "\n",
    "    ground_truth_lat = np.array(df_mess_pos.groupby(['messid']).mean()['lat'])\n",
    "    ground_truth_lng = np.array(df_mess_pos.groupby(['messid']).mean()['lng'])\n",
    "    \n",
    "    return ground_truth_lat, ground_truth_lng"
   ]
  },
  {
   "cell_type": "code",
   "execution_count": 21,
   "metadata": {
    "ExecuteTime": {
     "end_time": "2018-12-14T16:35:12.848294Z",
     "start_time": "2018-12-14T16:35:12.512497Z"
    }
   },
   "outputs": [
    {
     "data": {
      "text/plain": [
       "(11362,)"
      ]
     },
     "execution_count": 21,
     "metadata": {},
     "output_type": "execute_result"
    }
   ],
   "source": [
    "ground_truth_lat, ground_truth_lng = ground_truth_const(df_features, pos_train)\n",
    "ground_truth_lat.shape"
   ]
  },
  {
   "cell_type": "code",
   "execution_count": null,
   "metadata": {
    "ExecuteTime": {
     "end_time": "2018-12-14T16:35:12.854241Z",
     "start_time": "2018-12-14T16:35:12.851266Z"
    }
   },
   "outputs": [],
   "source": [
    "# Validation"
   ]
  },
  {
   "cell_type": "code",
   "execution_count": null,
   "metadata": {
    "ExecuteTime": {
     "end_time": "2018-12-14T16:35:12.878545Z",
     "start_time": "2018-12-14T16:35:12.856225Z"
    }
   },
   "outputs": [],
   "source": [
    "def regressor_and_predict(df_feat, ground_truth_lat, ground_truth_lng, df_test):\n",
    "    \n",
    "     # train regressor and make prediction in the train set\n",
    "    # Input: df_feat, ground_truth_lat, ground_truth_lng, df_test\n",
    "    # Output: y_pred_lat, y_pred_lng\n",
    "\n",
    "    from sklearn import linear_model\n",
    "    from sklearn.ensemble import RandomForestRegressor\n",
    "\n",
    "    X_train = np.array(df_feat);\n",
    "    clf_rf = RandomForestRegressor(n_estimators = 100)\n",
    "    \n",
    "    clf_rf.fit(X_train, ground_truth_lat);\n",
    "    y_pred_lat = clf_rf.predict(df_test) \n",
    "\n",
    "    clf_rf.fit(X_train, ground_truth_lng);\n",
    "    y_pred_lng = clf_rf.predict(df_test) \n",
    "    \n",
    "    return y_pred_lat, y_pred_lng\n"
   ]
  },
  {
   "cell_type": "code",
   "execution_count": null,
   "metadata": {
    "ExecuteTime": {
     "end_time": "2018-12-14T16:35:12.905841Z",
     "start_time": "2018-12-14T16:35:12.881025Z"
    }
   },
   "outputs": [],
   "source": [
    "# Make regressor and prediction using the train set"
   ]
  },
  {
   "cell_type": "code",
   "execution_count": null,
   "metadata": {
    "ExecuteTime": {
     "end_time": "2018-12-14T16:35:13.489680Z",
     "start_time": "2018-12-14T16:35:12.908306Z"
    }
   },
   "outputs": [],
   "source": [
    "y_pred_lat, y_pred_lng = regressor_and_predict(df_features, ground_truth_lat, ground_truth_lng, df_features)"
   ]
  },
  {
   "cell_type": "code",
   "execution_count": null,
   "metadata": {
    "ExecuteTime": {
     "end_time": "2018-12-14T16:36:26.378948Z",
     "start_time": "2018-12-14T16:36:26.296118Z"
    }
   },
   "outputs": [],
   "source": [
    "df_new = df_features.dropna()\n",
    "df_new.shape[0]\n",
    "df_features.shape[0]"
   ]
  },
  {
   "cell_type": "code",
   "execution_count": null,
   "metadata": {
    "ExecuteTime": {
     "end_time": "2018-12-14T15:54:16.707923Z",
     "start_time": "2018-12-14T15:54:14.652Z"
    }
   },
   "outputs": [],
   "source": [
    "# Cross validation"
   ]
  },
  {
   "cell_type": "code",
   "execution_count": null,
   "metadata": {},
   "outputs": [],
   "source": [
    "from sklearn.model_selection import cross_val_predict\n",
    "clf_rf = RandomForestRegressor(n_estimators = 100)\n",
    "y_pred_lng = cross_val_predict(clf_rf, df_features, ground_truth_lng, cv=10)\n",
    "y_pred_lat = cross_val_predict(clf_rf, df_features, ground_truth_lat, cv=10)"
   ]
  },
  {
   "cell_type": "code",
   "execution_count": null,
   "metadata": {
    "ExecuteTime": {
     "end_time": "2018-12-14T15:54:16.708915Z",
     "start_time": "2018-12-14T15:54:14.655Z"
    }
   },
   "outputs": [],
   "source": [
    "# Evaluate result"
   ]
  },
  {
   "cell_type": "code",
   "execution_count": null,
   "metadata": {
    "ExecuteTime": {
     "end_time": "2018-12-14T15:54:16.709907Z",
     "start_time": "2018-12-14T15:54:14.658Z"
    }
   },
   "outputs": [],
   "source": [
    "def vincenty_vec(vec_coord):\n",
    "    vin_vec_dist = np.zeros(vec_coord.shape[0])\n",
    "    if vec_coord.shape[1] !=  4:\n",
    "        print('ERROR: Bad number of columns (shall be = 4)')\n",
    "    else:\n",
    "        vin_vec_dist = [vincenty(vec_coord[m,0:2],vec_coord[m,2:]).meters for m in range(vec_coord.shape[0])]\n",
    "    return vin_vec_dist"
   ]
  },
  {
   "cell_type": "code",
   "execution_count": null,
   "metadata": {
    "ExecuteTime": {
     "end_time": "2018-12-14T15:54:16.710911Z",
     "start_time": "2018-12-14T15:54:14.662Z"
    }
   },
   "outputs": [],
   "source": [
    "# evaluate distance error for each predicted point\n",
    "def Eval_geoloc(y_train_lat , y_train_lng, y_pred_lat, y_pred_lng):\n",
    "    vec_coord = np.array([y_train_lat , y_train_lng, y_pred_lat, y_pred_lng])\n",
    "    err_vec = vincenty_vec(np.transpose(vec_coord))\n",
    "    \n",
    "    return err_vec"
   ]
  },
  {
   "cell_type": "code",
   "execution_count": null,
   "metadata": {
    "ExecuteTime": {
     "end_time": "2018-12-14T15:54:16.713381Z",
     "start_time": "2018-12-14T15:54:14.665Z"
    }
   },
   "outputs": [],
   "source": [
    "err_vec = Eval_geoloc(ground_truth_lat , ground_truth_lng, y_pred_lat, y_pred_lng)"
   ]
  },
  {
   "cell_type": "code",
   "execution_count": null,
   "metadata": {
    "ExecuteTime": {
     "end_time": "2018-12-14T15:54:16.714868Z",
     "start_time": "2018-12-14T15:54:14.669Z"
    }
   },
   "outputs": [],
   "source": [
    "# Plot error distribution"
   ]
  },
  {
   "cell_type": "code",
   "execution_count": null,
   "metadata": {
    "ExecuteTime": {
     "end_time": "2018-12-14T15:54:16.715859Z",
     "start_time": "2018-12-14T15:54:14.672Z"
    }
   },
   "outputs": [],
   "source": [
    "values, base = np.histogram(err_vec, bins=50000)\n",
    "cumulative = np.cumsum(values) \n",
    "plt.figure();\n",
    "plt.plot(base[:-1]/1000, cumulative / np.float(np.sum(values))  * 100.0, c='blue')\n",
    "plt.grid(); plt.xlabel('Distance Error (km)'); plt.ylabel('Cum proba (%)'); plt.axis([0, 30, 0, 100]); \n",
    "plt.title('Error Cumulative Probability'); plt.legend( [\"Opt LLR\", \"LLR 95\", \"LLR 99\"])"
   ]
  },
  {
   "cell_type": "code",
   "execution_count": null,
   "metadata": {
    "ExecuteTime": {
     "end_time": "2018-12-14T15:54:16.716852Z",
     "start_time": "2018-12-14T15:54:14.675Z"
    }
   },
   "outputs": [],
   "source": [
    "# Error criterion\n",
    "\n",
    "np.percentile(err_vec, 80)"
   ]
  },
  {
   "cell_type": "code",
   "execution_count": null,
   "metadata": {
    "ExecuteTime": {
     "end_time": "2018-12-14T15:54:16.717843Z",
     "start_time": "2018-12-14T15:54:14.678Z"
    }
   },
   "outputs": [],
   "source": [
    "# Construct test prediction"
   ]
  },
  {
   "cell_type": "code",
   "execution_count": null,
   "metadata": {
    "ExecuteTime": {
     "end_time": "2018-12-14T15:54:16.718848Z",
     "start_time": "2018-12-14T15:54:14.681Z"
    }
   },
   "outputs": [],
   "source": [
    "df_mess_test.head()"
   ]
  },
  {
   "cell_type": "code",
   "execution_count": null,
   "metadata": {
    "ExecuteTime": {
     "end_time": "2018-12-14T15:54:16.720819Z",
     "start_time": "2018-12-14T15:54:14.684Z"
    }
   },
   "outputs": [],
   "source": [
    "df_feat_test = feat_mat_const(df_mess_test, listOfBs)"
   ]
  },
  {
   "cell_type": "code",
   "execution_count": null,
   "metadata": {
    "ExecuteTime": {
     "end_time": "2018-12-14T15:54:16.721811Z",
     "start_time": "2018-12-14T15:54:14.687Z"
    }
   },
   "outputs": [],
   "source": [
    "y_pred_lat, y_pred_lng = regressor_and_predict(df_feat, ground_truth_lat, ground_truth_lng, df_feat_test)"
   ]
  },
  {
   "cell_type": "code",
   "execution_count": null,
   "metadata": {
    "ExecuteTime": {
     "end_time": "2018-12-14T15:54:16.722803Z",
     "start_time": "2018-12-14T15:54:14.690Z"
    }
   },
   "outputs": [],
   "source": [
    "test_res = pd.DataFrame(np.array([y_pred_lat, y_pred_lng]).T, columns = ['lat', 'lng'])"
   ]
  },
  {
   "cell_type": "code",
   "execution_count": null,
   "metadata": {
    "ExecuteTime": {
     "end_time": "2018-12-14T15:54:16.723795Z",
     "start_time": "2018-12-14T15:54:14.692Z"
    }
   },
   "outputs": [],
   "source": [
    "test_res.to_csv('pred_pos_test_list.csv', index=False)"
   ]
  },
  {
   "cell_type": "code",
   "execution_count": null,
   "metadata": {
    "ExecuteTime": {
     "end_time": "2018-12-14T15:54:16.724787Z",
     "start_time": "2018-12-14T15:54:14.695Z"
    }
   },
   "outputs": [],
   "source": [
    "test_res.head()"
   ]
  },
  {
   "cell_type": "code",
   "execution_count": null,
   "metadata": {},
   "outputs": [],
   "source": []
  }
 ],
 "metadata": {
  "kernelspec": {
   "display_name": "Python 3",
   "language": "python",
   "name": "python3"
  },
  "language_info": {
   "codemirror_mode": {
    "name": "ipython",
    "version": 3
   },
   "file_extension": ".py",
   "mimetype": "text/x-python",
   "name": "python",
   "nbconvert_exporter": "python",
   "pygments_lexer": "ipython3",
   "version": "3.6.7"
  },
  "toc": {
   "base_numbering": 1,
   "nav_menu": {},
   "number_sections": true,
   "sideBar": true,
   "skip_h1_title": true,
   "title_cell": "Table of Contents",
   "title_sidebar": "Contents",
   "toc_cell": false,
   "toc_position": {},
   "toc_section_display": true,
   "toc_window_display": true
  }
 },
 "nbformat": 4,
 "nbformat_minor": 1
}
